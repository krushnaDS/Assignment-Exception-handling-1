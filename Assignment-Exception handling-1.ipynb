{
 "cells": [
  {
   "cell_type": "code",
   "execution_count": 1,
   "id": "1ed8f495",
   "metadata": {},
   "outputs": [
    {
     "data": {
      "text/plain": [
       "'Q1. What is an exception in python? write the difference between exception and syntax error\\n\\nExceptions are raised when the program is syntactically correct, but the code results in an error.\\nThis error does not stop the execution of the program, however, it changes the normal flow of the program.\\nDifference between exception and syntax error - Syntax occurs due to syntactically wrong code. but exception occurs \\ndue to code results in an error.\\n'"
      ]
     },
     "execution_count": 1,
     "metadata": {},
     "output_type": "execute_result"
    }
   ],
   "source": [
    "'''Q1. What is an exception in python? write the difference between exception and syntax error\n",
    "\n",
    "Exceptions are raised when the program is syntactically correct, but the code results in an error.\n",
    "This error does not stop the execution of the program, however, it changes the normal flow of the program.\n",
    "Difference between exception and syntax error - Syntax occurs due to syntactically wrong code. but exception occurs \n",
    "due to code results in an error.\n",
    "'''"
   ]
  },
  {
   "cell_type": "code",
   "execution_count": 2,
   "id": "29916954",
   "metadata": {},
   "outputs": [
    {
     "data": {
      "text/plain": [
       "'Q2. What happens when an exception is not handled ? Explain with example.\\n\\nWhen an exception occurred, if you don’t handle it, the program terminates abruptly \\nand the code past the line that caused the exception will not get executed.\\nBy handling exceptions, you can provide an alternative flow of execution to avoid \\ncrashing your program unexpectedly.\\n\\nExample: Imagine what would happen if a user who is working with your program enters an\\n         invalid input. This would raise an exception because an invalid operation was performed during the process.\\n'"
      ]
     },
     "execution_count": 2,
     "metadata": {},
     "output_type": "execute_result"
    }
   ],
   "source": [
    "'''Q2. What happens when an exception is not handled ? Explain with example.\n",
    "\n",
    "When an exception occurred, if you don’t handle it, the program terminates abruptly \n",
    "and the code past the line that caused the exception will not get executed.\n",
    "By handling exceptions, you can provide an alternative flow of execution to avoid \n",
    "crashing your program unexpectedly.\n",
    "\n",
    "Example: Imagine what would happen if a user who is working with your program enters an\n",
    "         invalid input. This would raise an exception because an invalid operation was performed during the process.\n",
    "'''"
   ]
  },
  {
   "cell_type": "code",
   "execution_count": 3,
   "id": "ee6f5c25",
   "metadata": {},
   "outputs": [
    {
     "data": {
      "text/plain": [
       "'Q3. Which python statements are used to catch and handle exception? Explain with an example.\\n\\n1.Try and Except Statement : Try and except statements are used to catch and handle exceptions in python.\\n                             Statement that can raise exceptions are kept inside the try clause and the statement \\n                             that handle the exception are written inside except clause.\\nExample :\\n\\na = [1, 2, 3]\\ntry:\\n    print (\"Second element = %d\" %(a[1]))\\n \\n    # Throws error since there are only 3 elements in array\\n    print (\"Fourth element = %d\" %(a[3]))\\n \\nexcept:\\n    print (\"An error occurred\")\\n    \\n    \\n2. Try with Else Clause : else clause on the try-except block which must be present after all the except clauses. \\n                          The code enters the else block only if the try clause does not raise an exception.\\nExample :\\nef AbyB(a , b):\\n    try:\\n        c = ((a+b) / (a-b))\\n    except ZeroDivisionError:\\n        print (\"a/b result in 0\")\\n    else:\\n        print (c)\\n        \\n\\n3. Finally Keyword : Python provides a keyword finally, which is always executed after the try and except blocks. \\n                     The final block always executes after the normal termination of the try block or after the try \\n                     block terminates due to some exception.\\n                     \\nExample :\\n    try:\\n        k = 5//0  # raises divide by zero exception.\\n        print(k)\\n \\n    # handles zerodivision exception\\n    except ZeroDivisionError:\\n        print(\"Can\\'t divide by zero\")\\n \\n    finally:\\n        # this block is always executed\\n        # regardless of exception generation.\\n        print(\\'This is always executed\\')\\n        \\n    \\n4. Raising Exception : The raise statement allows the programmer to force a specific exception to occur. \\n                       The sole argument in raise indicates the exception to be raised. \\n                       \\nExample :\\ntry:\\n    raise NameError(\"Hi there\")  # Raise Error\\nexcept NameError:\\n    print (\"An exception\")\\n    raise\\n'"
      ]
     },
     "execution_count": 3,
     "metadata": {},
     "output_type": "execute_result"
    }
   ],
   "source": [
    "'''Q3. Which python statements are used to catch and handle exception? Explain with an example.\n",
    "\n",
    "1.Try and Except Statement : Try and except statements are used to catch and handle exceptions in python.\n",
    "                             Statement that can raise exceptions are kept inside the try clause and the statement \n",
    "                             that handle the exception are written inside except clause.\n",
    "Example :\n",
    "\n",
    "a = [1, 2, 3]\n",
    "try:\n",
    "    print (\"Second element = %d\" %(a[1]))\n",
    " \n",
    "    # Throws error since there are only 3 elements in array\n",
    "    print (\"Fourth element = %d\" %(a[3]))\n",
    " \n",
    "except:\n",
    "    print (\"An error occurred\")\n",
    "    \n",
    "    \n",
    "2. Try with Else Clause : else clause on the try-except block which must be present after all the except clauses. \n",
    "                          The code enters the else block only if the try clause does not raise an exception.\n",
    "Example :\n",
    "ef AbyB(a , b):\n",
    "    try:\n",
    "        c = ((a+b) / (a-b))\n",
    "    except ZeroDivisionError:\n",
    "        print (\"a/b result in 0\")\n",
    "    else:\n",
    "        print (c)\n",
    "        \n",
    "\n",
    "3. Finally Keyword : Python provides a keyword finally, which is always executed after the try and except blocks. \n",
    "                     The final block always executes after the normal termination of the try block or after the try \n",
    "                     block terminates due to some exception.\n",
    "                     \n",
    "Example :\n",
    "    try:\n",
    "        k = 5//0  # raises divide by zero exception.\n",
    "        print(k)\n",
    " \n",
    "    # handles zerodivision exception\n",
    "    except ZeroDivisionError:\n",
    "        print(\"Can't divide by zero\")\n",
    " \n",
    "    finally:\n",
    "        # this block is always executed\n",
    "        # regardless of exception generation.\n",
    "        print('This is always executed')\n",
    "        \n",
    "    \n",
    "4. Raising Exception : The raise statement allows the programmer to force a specific exception to occur. \n",
    "                       The sole argument in raise indicates the exception to be raised. \n",
    "                       \n",
    "Example :\n",
    "try:\n",
    "    raise NameError(\"Hi there\")  # Raise Error\n",
    "except NameError:\n",
    "    print (\"An exception\")\n",
    "    raise\n",
    "'''"
   ]
  },
  {
   "cell_type": "code",
   "execution_count": 4,
   "id": "af9f9a7e",
   "metadata": {},
   "outputs": [
    {
     "data": {
      "text/plain": [
       "'Q4. Explain with an example\\n\\na. try and else : else clause on the try-except block which must be present after all the except clauses. \\n                  The code enters the else block only if the try clause does not raise an exception.\\nExample :\\n\\nef AbyB(a , b):\\n    try:\\n        c = ((a+b) / (a-b))\\n    except ZeroDivisionError:\\n        print (\"a/b result in 0\")\\n    else:\\n        print (c)\\n        \\n        \\nb. finally : Python provides a keyword finally, which is always executed after the try and except blocks. \\n                     The final block always executes after the normal termination of the try block or after the try \\n                     block terminates due to some exception.\\n                     \\nExample :\\n    try:\\n        k = 5//0  # raises divide by zero exception.\\n        print(k)\\n \\n    # handles zerodivision exception\\n    except ZeroDivisionError:\\n        print(\"Can\\'t divide by zero\")\\n \\n    finally:\\n        # this block is always executed\\n        # regardless of exception generation.\\n        print(\\'This is always executed\\')\\n        \\nc. raise : The raise statement allows the programmer to force a specific exception to occur. \\n           the sole argument in raise indicates the exception to be raised. \\n                       \\nExample :\\ntry:\\n    raise NameError(\"Hi there\")  # Raise Error\\nexcept NameError:\\n    print (\"An exception\")\\n    raise\\n        \\n        '"
      ]
     },
     "execution_count": 4,
     "metadata": {},
     "output_type": "execute_result"
    }
   ],
   "source": [
    "'''Q4. Explain with an example\n",
    "\n",
    "a. try and else : else clause on the try-except block which must be present after all the except clauses. \n",
    "                  The code enters the else block only if the try clause does not raise an exception.\n",
    "Example :\n",
    "\n",
    "ef AbyB(a , b):\n",
    "    try:\n",
    "        c = ((a+b) / (a-b))\n",
    "    except ZeroDivisionError:\n",
    "        print (\"a/b result in 0\")\n",
    "    else:\n",
    "        print (c)\n",
    "        \n",
    "        \n",
    "b. finally : Python provides a keyword finally, which is always executed after the try and except blocks. \n",
    "                     The final block always executes after the normal termination of the try block or after the try \n",
    "                     block terminates due to some exception.\n",
    "                     \n",
    "Example :\n",
    "    try:\n",
    "        k = 5//0  # raises divide by zero exception.\n",
    "        print(k)\n",
    " \n",
    "    # handles zerodivision exception\n",
    "    except ZeroDivisionError:\n",
    "        print(\"Can't divide by zero\")\n",
    " \n",
    "    finally:\n",
    "        # this block is always executed\n",
    "        # regardless of exception generation.\n",
    "        print('This is always executed')\n",
    "        \n",
    "c. raise : The raise statement allows the programmer to force a specific exception to occur. \n",
    "           the sole argument in raise indicates the exception to be raised. \n",
    "                       \n",
    "Example :\n",
    "try:\n",
    "    raise NameError(\"Hi there\")  # Raise Error\n",
    "except NameError:\n",
    "    print (\"An exception\")\n",
    "    raise\n",
    "        \n",
    "        '''"
   ]
  },
  {
   "cell_type": "code",
   "execution_count": null,
   "id": "3fdb6645",
   "metadata": {},
   "outputs": [],
   "source": [
    "'''Q5. What are custom exceptions in python? why do we need custom exceptions? Explain with an example\n",
    "\n",
    "In Python, we can define custom exceptions by creating a new class that is derived from the built-in Exception class.\n",
    "Python also allows us to define our own custom Exceptions. We are in complete control of what this Exception can do, \n",
    "and when it can be raised, using the raise keyword.\n",
    "\n",
    "Example :\n",
    "\n",
    "# define Python user-defined exceptions\n",
    "class InvalidAgeException(Exception):\n",
    "    \"Raised when the input value is less than 18\"\n",
    "    pass\n",
    "\n",
    "# you need to guess this number\n",
    "number = 18\n",
    "\n",
    "try:\n",
    "    input_num = int(input(\"Enter a number: \"))\n",
    "    if input_num < number:\n",
    "        raise InvalidAgeException\n",
    "    else:\n",
    "        print(\"Eligible to Vote\")\n",
    "        \n",
    "except InvalidAgeException:\n",
    "    print(\"Exception occurred: Invalid Age\")\n",
    "'''"
   ]
  },
  {
   "cell_type": "code",
   "execution_count": 1,
   "id": "f49e6aa9",
   "metadata": {},
   "outputs": [
    {
     "name": "stdout",
     "output_type": "stream",
     "text": [
      "Enter a number: 4\n",
      "Exception occurred: Invalid Age\n"
     ]
    }
   ],
   "source": [
    "'''Q6. Create custom exception class\n",
    "    \n",
    "'''\n",
    "\n",
    "class InvalidAgeException(Exception):\n",
    "    #\"Raised when the input value is less than 18\"\n",
    "    pass\n",
    "\n",
    "# you need to guess this number\n",
    "number = 18\n",
    "\n",
    "try:\n",
    "    input_num = int(input(\"Enter a number: \"))\n",
    "    if input_num < number:\n",
    "        raise InvalidAgeException\n",
    "    else:\n",
    "        print(\"Eligible to Vote\")\n",
    "        \n",
    "except InvalidAgeException:\n",
    "    print(\"Exception occurred: Invalid Age\")"
   ]
  },
  {
   "cell_type": "code",
   "execution_count": null,
   "id": "4c42c26e",
   "metadata": {},
   "outputs": [],
   "source": []
  }
 ],
 "metadata": {
  "kernelspec": {
   "display_name": "Python 3 (ipykernel)",
   "language": "python",
   "name": "python3"
  },
  "language_info": {
   "codemirror_mode": {
    "name": "ipython",
    "version": 3
   },
   "file_extension": ".py",
   "mimetype": "text/x-python",
   "name": "python",
   "nbconvert_exporter": "python",
   "pygments_lexer": "ipython3",
   "version": "3.10.9"
  }
 },
 "nbformat": 4,
 "nbformat_minor": 5
}
